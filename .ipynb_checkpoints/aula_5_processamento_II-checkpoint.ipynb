{
 "cells": [
  {
   "cell_type": "markdown",
   "id": "b0276f1f-21da-49b8-a777-383fdb8f662f",
   "metadata": {},
   "source": [
    "# NumPy"
   ]
  },
  {
   "cell_type": "markdown",
   "id": "2a856f1a-2386-4b86-98fd-0461f01ec7df",
   "metadata": {},
   "source": [
    "## **Problema gerador**: como fazer facilmente operações em listas, elemento a elemento?"
   ]
  },
  {
   "cell_type": "markdown",
   "id": "d487fcb3-e2dd-4456-b21a-85faccfafa85",
   "metadata": {},
   "source": [
    "Eu tenho duas listas e gostaria de somar os seus elementos em uma nova lista."
   ]
  },
  {
   "cell_type": "code",
   "execution_count": 1,
   "id": "dd538228-1d1f-47b6-880f-76a577706380",
   "metadata": {
    "tags": []
   },
   "outputs": [],
   "source": [
    "lista1 = [1, 2, 3, 4]\n",
    "lista2 = [5, 6, 7, 8]"
   ]
  },
  {
   "cell_type": "code",
   "execution_count": 3,
   "id": "f11b7a0c-4e01-4319-8708-2319dd514f98",
   "metadata": {},
   "outputs": [
    {
     "data": {
      "text/plain": [
       "[1, 2, 3, 4, 5, 6, 7, 8]"
      ]
     },
     "execution_count": 3,
     "metadata": {},
     "output_type": "execute_result"
    }
   ],
   "source": [
    "lista3 = lista1 + lista2\n",
    "lista3"
   ]
  },
  {
   "cell_type": "code",
   "execution_count": 4,
   "id": "bdba3719-101b-4ba0-9411-9d68239d96c9",
   "metadata": {
    "tags": []
   },
   "outputs": [
    {
     "data": {
      "text/plain": [
       "[6, 8, 10, 12]"
      ]
     },
     "execution_count": 4,
     "metadata": {},
     "output_type": "execute_result"
    }
   ],
   "source": [
    "lista3 = []\n",
    "\n",
    "for i in range(len(lista1)):\n",
    "    lista3.append(lista1[i] + lista2[i])\n",
    "\n",
    "lista3"
   ]
  },
  {
   "cell_type": "markdown",
   "id": "a6872ac0-23c0-4cc4-8d39-8e03cebf15e4",
   "metadata": {},
   "source": [
    "## A biblioteca **NumPy**"
   ]
  },
  {
   "cell_type": "markdown",
   "id": "97750938-b1c2-4b12-9664-afe12b3b57af",
   "metadata": {},
   "source": [
    "A biblioteca **NumPy** _(Numerical Python)_ proporciona uma forma eficiente de armazenagem e processamento de conjuntos de dados, e é utilizada como base para a construção da biblioteca Pandas, que já conhecemos, além de várias outras bibliotecas importantes pra ciência de dados!\n",
    "\n",
    "O diferencial do Numpy é sua velocidade e eficiência, o que faz com que ela seja amplamente utilizada para computação científica e analise de dados. \n",
    "\n",
    "A velocidade e eficiência é possível graças à estrutura chamada **numpy array**, que é um forma eficiente de guardar e manipular matrizes, ou, de forma mais genérica, **tensores**.\n",
    "\n",
    "<img src=\"https://predictivehacks.com/wp-content/uploads/2020/08/numpy_arrays-1024x572.png\" width=500>"
   ]
  },
  {
   "cell_type": "markdown",
   "id": "260e7255-6662-443e-bfb6-78e4eafcfe70",
   "metadata": {},
   "source": [
    "### Criando arrays"
   ]
  },
  {
   "cell_type": "code",
   "execution_count": 5,
   "id": "3431a043-c253-4183-bbdc-f438f4b96615",
   "metadata": {
    "tags": []
   },
   "outputs": [],
   "source": [
    "import numpy as np"
   ]
  },
  {
   "cell_type": "markdown",
   "id": "eef59b59-ec57-4ac5-b8bf-1f9deee68475",
   "metadata": {},
   "source": [
    "Para criar arrays **a partir de uma lista**, basta utilizar a função ```np.array()```."
   ]
  },
  {
   "cell_type": "code",
   "execution_count": 6,
   "id": "a91fe9a7-dc1b-45da-a68e-57bf7c542970",
   "metadata": {
    "tags": []
   },
   "outputs": [
    {
     "data": {
      "text/plain": [
       "[1, 2, 3, 4]"
      ]
     },
     "execution_count": 6,
     "metadata": {},
     "output_type": "execute_result"
    }
   ],
   "source": [
    "lista1"
   ]
  },
  {
   "cell_type": "code",
   "execution_count": 9,
   "id": "fec506e6-0453-4d4d-8896-e971df9371f1",
   "metadata": {
    "tags": []
   },
   "outputs": [
    {
     "data": {
      "text/plain": [
       "array([1, 2, 3, 4])"
      ]
     },
     "execution_count": 9,
     "metadata": {},
     "output_type": "execute_result"
    }
   ],
   "source": [
    "arr = np.array(lista1)\n",
    "\n",
    "arr"
   ]
  },
  {
   "cell_type": "code",
   "execution_count": 10,
   "id": "45adfc03-abda-467a-8371-b84431735458",
   "metadata": {
    "tags": []
   },
   "outputs": [
    {
     "name": "stdout",
     "output_type": "stream",
     "text": [
      "[1 2 3 4]\n"
     ]
    }
   ],
   "source": [
    "print(arr)"
   ]
  },
  {
   "cell_type": "markdown",
   "id": "6fd8dcd2-cfe1-4b33-a2b3-b3e0733d2462",
   "metadata": {},
   "source": [
    "Outras formas de inicializar arrays..."
   ]
  },
  {
   "cell_type": "code",
   "execution_count": 11,
   "id": "73652ff7-13a6-46e4-a0e9-bc2c245d4d5e",
   "metadata": {
    "tags": []
   },
   "outputs": [
    {
     "data": {
      "text/plain": [
       "array([0., 0., 0., 0., 0.])"
      ]
     },
     "execution_count": 11,
     "metadata": {},
     "output_type": "execute_result"
    }
   ],
   "source": [
    "# Array de zeros com np.zeros(n)\n",
    "\n",
    "np.zeros(5)"
   ]
  },
  {
   "cell_type": "code",
   "execution_count": 12,
   "id": "4ced3652-0e17-484d-a692-70d2a05b3492",
   "metadata": {
    "tags": []
   },
   "outputs": [
    {
     "data": {
      "text/plain": [
       "array([1., 1., 1., 1., 1.])"
      ]
     },
     "execution_count": 12,
     "metadata": {},
     "output_type": "execute_result"
    }
   ],
   "source": [
    "# Array de uns com np.ones(n)\n",
    "\n",
    "np.ones(5)"
   ]
  },
  {
   "cell_type": "code",
   "execution_count": 13,
   "id": "0335c5ab-cbc5-4f00-af3d-4c0f8db73d99",
   "metadata": {
    "tags": []
   },
   "outputs": [
    {
     "data": {
      "text/plain": [
       "array([0, 1, 2, 3, 4, 5, 6, 7, 8, 9])"
      ]
     },
     "execution_count": 13,
     "metadata": {},
     "output_type": "execute_result"
    }
   ],
   "source": [
    "# Array de números em sequência com np.arange()\n",
    "\n",
    "np.arange(10)"
   ]
  },
  {
   "cell_type": "code",
   "execution_count": 14,
   "id": "a269c05a-3bfb-465a-8230-971a98ac21ab",
   "metadata": {
    "tags": []
   },
   "outputs": [
    {
     "data": {
      "text/plain": [
       "[0, 1, 2, 3, 4, 5, 6, 7, 8, 9]"
      ]
     },
     "execution_count": 14,
     "metadata": {},
     "output_type": "execute_result"
    }
   ],
   "source": [
    "list(range(10))"
   ]
  },
  {
   "cell_type": "code",
   "execution_count": 15,
   "id": "73c3a1ab-2a8a-47a3-907c-3478a8f4ad01",
   "metadata": {
    "tags": []
   },
   "outputs": [
    {
     "data": {
      "text/plain": [
       "array([10, 13, 16, 19])"
      ]
     },
     "execution_count": 15,
     "metadata": {},
     "output_type": "execute_result"
    }
   ],
   "source": [
    "np.arange(10, 20, 3) # Parte de 10 e vai até 20, com passo 3."
   ]
  },
  {
   "cell_type": "markdown",
   "id": "ad2c60c0-19ad-4838-983a-1302bfab3f2d",
   "metadata": {},
   "source": [
    "Diferente do ```range()```, ```np.arange()``` permite que tenhamos um passo do tipo ```float```:"
   ]
  },
  {
   "cell_type": "code",
   "execution_count": 16,
   "id": "146bb35f-29c2-4acc-b327-0cee3893c231",
   "metadata": {
    "tags": []
   },
   "outputs": [
    {
     "data": {
      "text/plain": [
       "array([10. , 10.5, 11. , 11.5, 12. , 12.5, 13. , 13.5, 14. , 14.5, 15. ,\n",
       "       15.5, 16. , 16.5, 17. , 17.5, 18. , 18.5, 19. , 19.5])"
      ]
     },
     "execution_count": 16,
     "metadata": {},
     "output_type": "execute_result"
    }
   ],
   "source": [
    "np.arange(10, 20, 0.5)"
   ]
  },
  {
   "cell_type": "markdown",
   "id": "72b779fb-94f2-4c15-891d-a43530f283db",
   "metadata": {},
   "source": [
    "```np.linspace()``` para criar um array com **sequência de valores igualmente espaçados**.\n",
    "\n",
    "Primeiro argumento: início do intervalo (incluso na sequência);\n",
    "\n",
    "Segundo argumento: fim do intervalo (incluso na sequência);\n",
    "\n",
    "Terceiro argumento: quantidade de elementos."
   ]
  },
  {
   "cell_type": "code",
   "execution_count": 17,
   "id": "8518338e-c73d-4025-a764-8793c1d94905",
   "metadata": {
    "tags": []
   },
   "outputs": [
    {
     "data": {
      "text/plain": [
       "array([10. , 12.5, 15. , 17.5, 20. ])"
      ]
     },
     "execution_count": 17,
     "metadata": {},
     "output_type": "execute_result"
    }
   ],
   "source": [
    "np.linspace(10, 20, 5)"
   ]
  },
  {
   "cell_type": "markdown",
   "id": "a854b22b-00da-4401-ad4f-19f19d3b5232",
   "metadata": {},
   "source": [
    "```np.random.rand()``` para criar um array com **valores aleatórios de uma distribuição uniforme entre 0 e 1**."
   ]
  },
  {
   "cell_type": "code",
   "execution_count": 18,
   "id": "2659e67a-2f46-4cdf-b4a7-1de76e2a7e22",
   "metadata": {
    "tags": []
   },
   "outputs": [
    {
     "data": {
      "text/plain": [
       "array([0.43606319, 0.26299976, 0.64016345, 0.27064182, 0.67146204,\n",
       "       0.92905432, 0.19306905, 0.12730415, 0.26317352, 0.59773328])"
      ]
     },
     "execution_count": 18,
     "metadata": {},
     "output_type": "execute_result"
    }
   ],
   "source": [
    "np.random.rand(10)"
   ]
  },
  {
   "cell_type": "markdown",
   "id": "4c61a4b4-c564-4cd9-98b4-553d157e12ad",
   "metadata": {},
   "source": [
    "Para fixarmos a aleatoriedade e a deixarmos mais controlada tendo em vista uma reprodutividade (**números aleatórios reprodutíveis**), basta plantarmos uma semente específica utilizando ```np.random.seed()```."
   ]
  },
  {
   "cell_type": "code",
   "execution_count": 21,
   "id": "5b1df4e6-fdb2-4cf7-ab6c-fb7a672d4ca0",
   "metadata": {
    "tags": []
   },
   "outputs": [
    {
     "data": {
      "text/plain": [
       "array([0.37454012, 0.95071431, 0.73199394, 0.59865848, 0.15601864,\n",
       "       0.15599452, 0.05808361, 0.86617615, 0.60111501, 0.70807258])"
      ]
     },
     "execution_count": 21,
     "metadata": {},
     "output_type": "execute_result"
    }
   ],
   "source": [
    "np.random.seed(42)\n",
    "np.random.rand(10)"
   ]
  },
  {
   "cell_type": "markdown",
   "id": "b931bf7b-fc69-4782-8eaf-b50c6b3eac2a",
   "metadata": {},
   "source": [
    "```np.random.randint()``` para criar um array com **números inteiros aleatórios** dentro de um intervalo (**com reposição**).\n",
    "\n",
    "Argumentos: início do intervalo, fim do intervalo (exclusivo) e quantidade de números."
   ]
  },
  {
   "cell_type": "code",
   "execution_count": 22,
   "id": "1a21aad4-e636-416e-a949-2fc2b10a5b49",
   "metadata": {
    "tags": []
   },
   "outputs": [
    {
     "data": {
      "text/plain": [
       "array([31, 62, 11, 97, 39, 47, 11, 73, 69, 30, 42, 85, 67, 31, 98, 58, 68,\n",
       "       51, 69, 89])"
      ]
     },
     "execution_count": 22,
     "metadata": {},
     "output_type": "execute_result"
    }
   ],
   "source": [
    "np.random.randint(10, 100, 20)"
   ]
  },
  {
   "cell_type": "markdown",
   "id": "cfd5e0d8-d595-406d-b45d-771fc41c7547",
   "metadata": {},
   "source": [
    "```np.random.choice()``` para criar um array de **números inteiros aleatórios** entre 10 e 100 **sem reposição**:"
   ]
  },
  {
   "cell_type": "code",
   "execution_count": 25,
   "id": "2be70ee1-9a33-4216-8920-761aa3174781",
   "metadata": {
    "tags": []
   },
   "outputs": [
    {
     "data": {
      "text/plain": [
       "array([49, 17, 92, 40, 19, 16, 27, 34, 23, 24, 99, 65, 43, 62, 22, 47, 55,\n",
       "       83, 80, 30])"
      ]
     },
     "execution_count": 25,
     "metadata": {},
     "output_type": "execute_result"
    }
   ],
   "source": [
    "np.random.choice(np.arange(10, 101), 20, replace=False)"
   ]
  },
  {
   "cell_type": "markdown",
   "id": "eb95f572-5729-4b6c-9cc8-2c7c058cf638",
   "metadata": {},
   "source": [
    "```np.random.normal()``` para criar um array com **números aleatórios de uma distribuição normal**.\n",
    "\n",
    "Argumentos: média, desvio padrão e quantidade de números."
   ]
  },
  {
   "cell_type": "code",
   "execution_count": 24,
   "id": "f372add0-ee70-4df9-8d9b-9ce4615749be",
   "metadata": {
    "tags": []
   },
   "outputs": [
    {
     "data": {
      "text/plain": [
       "array([-2.04442302,  1.06948089, -0.93376284,  0.78420819, -0.61487576,\n",
       "        0.33289244, -1.38071702, -0.28080629, -0.05981726,  0.96117377,\n",
       "        1.79428084,  0.58068954,  0.29765045, -1.02811577, -1.41859646,\n",
       "        0.19033698,  0.13575383,  0.60808966,  0.70498131,  0.36092338])"
      ]
     },
     "execution_count": 24,
     "metadata": {},
     "output_type": "execute_result"
    }
   ],
   "source": [
    "np.random.normal(0, 1, 20)"
   ]
  },
  {
   "cell_type": "markdown",
   "id": "7d89292a-b698-41a9-9762-4ffc7f8d776a",
   "metadata": {},
   "source": [
    "### Indexação"
   ]
  },
  {
   "cell_type": "markdown",
   "id": "6db928d8-bf8b-4eb7-82b4-e50cea64d887",
   "metadata": {},
   "source": [
    "É possível acessar elementos individuais dos arrays pelos índices, da mesma forma que fazemos com listas."
   ]
  },
  {
   "cell_type": "code",
   "execution_count": 27,
   "id": "e5676503-23f8-4f79-988d-6f00588e1a31",
   "metadata": {
    "tags": []
   },
   "outputs": [
    {
     "data": {
      "text/plain": [
       "array([ 2,  5,  8, 11, 14, 17, 20, 23, 26, 29, 32, 35, 38, 41, 44, 47])"
      ]
     },
     "execution_count": 27,
     "metadata": {},
     "output_type": "execute_result"
    }
   ],
   "source": [
    "arr = np.arange(2, 50, 3)\n",
    "\n",
    "arr"
   ]
  },
  {
   "cell_type": "code",
   "execution_count": 28,
   "id": "f82c2a70-a1ed-43a1-a7d9-a98e162f2997",
   "metadata": {
    "tags": []
   },
   "outputs": [
    {
     "data": {
      "text/plain": [
       "11"
      ]
     },
     "execution_count": 28,
     "metadata": {},
     "output_type": "execute_result"
    }
   ],
   "source": [
    "arr[3]"
   ]
  },
  {
   "cell_type": "code",
   "execution_count": 29,
   "id": "3c0226e4-8166-431a-b9ed-7b36ef457ae4",
   "metadata": {
    "tags": []
   },
   "outputs": [
    {
     "data": {
      "text/plain": [
       "41"
      ]
     },
     "execution_count": 29,
     "metadata": {},
     "output_type": "execute_result"
    }
   ],
   "source": [
    "arr[-3]"
   ]
  },
  {
   "cell_type": "code",
   "execution_count": 30,
   "id": "823a1ff0-d38f-425a-a895-a0a94633f919",
   "metadata": {
    "tags": []
   },
   "outputs": [
    {
     "data": {
      "text/plain": [
       "array([ 2,  5,  8, 11])"
      ]
     },
     "execution_count": 30,
     "metadata": {},
     "output_type": "execute_result"
    }
   ],
   "source": [
    "arr[:4]"
   ]
  },
  {
   "cell_type": "code",
   "execution_count": 31,
   "id": "c857ccfb-462f-4894-8352-966a6328da44",
   "metadata": {
    "tags": []
   },
   "outputs": [
    {
     "data": {
      "text/plain": [
       "array([35, 38, 41, 44, 47])"
      ]
     },
     "execution_count": 31,
     "metadata": {},
     "output_type": "execute_result"
    }
   ],
   "source": [
    "arr[-5:]"
   ]
  },
  {
   "cell_type": "code",
   "execution_count": 32,
   "id": "ab4cb35a-dfdd-436d-a80e-40681fb009e5",
   "metadata": {
    "tags": []
   },
   "outputs": [
    {
     "data": {
      "text/plain": [
       "array([11, 14])"
      ]
     },
     "execution_count": 32,
     "metadata": {},
     "output_type": "execute_result"
    }
   ],
   "source": [
    "arr[3:5]"
   ]
  },
  {
   "cell_type": "markdown",
   "id": "d97fe785-d586-4103-a7b0-5a2633bb3c56",
   "metadata": {},
   "source": [
    "### Operações"
   ]
  },
  {
   "cell_type": "markdown",
   "id": "0f1533c0-ee99-4ea0-b527-9654ed74eedc",
   "metadata": {},
   "source": [
    "É possível fazer operações matemáticas elemento a elemento."
   ]
  },
  {
   "cell_type": "code",
   "execution_count": 33,
   "id": "44c8071a-7ff9-436d-a536-24f820cdd0c2",
   "metadata": {
    "tags": []
   },
   "outputs": [
    {
     "name": "stdout",
     "output_type": "stream",
     "text": [
      "[42 49 48 27 49 10 20]\n",
      "[ 1.   2.5  4.   5.5  7.   8.5 10. ]\n"
     ]
    }
   ],
   "source": [
    "arr1 = np.random.randint(10, 50, 7)\n",
    "arr2 = np.linspace(1, 10, 7)\n",
    "\n",
    "print(arr1)\n",
    "print(arr2)"
   ]
  },
  {
   "cell_type": "code",
   "execution_count": 34,
   "id": "2f73ab42-e3a4-4e8a-95ef-e66ca6f15963",
   "metadata": {
    "tags": []
   },
   "outputs": [
    {
     "data": {
      "text/plain": [
       "array([43. , 51.5, 52. , 32.5, 56. , 18.5, 30. ])"
      ]
     },
     "execution_count": 34,
     "metadata": {},
     "output_type": "execute_result"
    }
   ],
   "source": [
    "arr1 + arr2"
   ]
  },
  {
   "cell_type": "code",
   "execution_count": 35,
   "id": "8905f89e-1c2c-439a-9a30-333c885ddea7",
   "metadata": {
    "tags": []
   },
   "outputs": [
    {
     "data": {
      "text/plain": [
       "array([42, 49, 48, 27, 49, 10, 20])"
      ]
     },
     "execution_count": 35,
     "metadata": {},
     "output_type": "execute_result"
    }
   ],
   "source": [
    "arr1"
   ]
  },
  {
   "cell_type": "code",
   "execution_count": 37,
   "id": "ddeb81eb-2fb6-4ea7-9a12-e5f6c6632b88",
   "metadata": {
    "tags": []
   },
   "outputs": [
    {
     "data": {
      "text/plain": [
       "array([44, 51, 50, 29, 51, 12, 22])"
      ]
     },
     "execution_count": 37,
     "metadata": {},
     "output_type": "execute_result"
    }
   ],
   "source": [
    "arr1 + 2 # Somará 2 a cada um dos elementos"
   ]
  },
  {
   "cell_type": "code",
   "execution_count": 39,
   "id": "215b6226-7466-489a-953c-9faa764e1ae3",
   "metadata": {
    "tags": []
   },
   "outputs": [
    {
     "data": {
      "text/plain": [
       "array([84, 98, 96, 54, 98, 20, 40])"
      ]
     },
     "execution_count": 39,
     "metadata": {},
     "output_type": "execute_result"
    }
   ],
   "source": [
    "arr1 * 2 # Multiplicará cada elemento por 2"
   ]
  },
  {
   "cell_type": "markdown",
   "id": "2a03767d-9dba-469d-b585-299da3f055cf",
   "metadata": {},
   "source": [
    "Para **transformar um array em uma lista** utilizamos ```tolist()```:"
   ]
  },
  {
   "cell_type": "code",
   "execution_count": 41,
   "id": "f870b02e-7029-4c55-810a-b95378a4213c",
   "metadata": {
    "tags": []
   },
   "outputs": [
    {
     "data": {
      "text/plain": [
       "[42, 49, 48, 27, 49, 10, 20]"
      ]
     },
     "execution_count": 41,
     "metadata": {},
     "output_type": "execute_result"
    }
   ],
   "source": [
    "arr1.tolist()"
   ]
  },
  {
   "cell_type": "markdown",
   "id": "d850e7ce-ab15-439b-82f8-e25c5f437345",
   "metadata": {},
   "source": [
    "Revisando para somar 2 a cada elemento de uma lista:"
   ]
  },
  {
   "cell_type": "code",
   "execution_count": 42,
   "id": "1b3c872f-8d91-4661-904a-d1ce1de4da3f",
   "metadata": {
    "tags": []
   },
   "outputs": [
    {
     "data": {
      "text/plain": [
       "[44, 51, 50, 29, 51, 12, 22]"
      ]
     },
     "execution_count": 42,
     "metadata": {},
     "output_type": "execute_result"
    }
   ],
   "source": [
    "[elemento + 2 for elemento in lista1]"
   ]
  },
  {
   "cell_type": "markdown",
   "id": "a412935f-3b79-4d5e-822b-a0f449e74588",
   "metadata": {},
   "source": [
    "Para criar um **array de cincos**:"
   ]
  },
  {
   "cell_type": "code",
   "execution_count": 43,
   "id": "70f12bbe-c485-4d9e-8bb4-0bc4bcf37360",
   "metadata": {
    "tags": []
   },
   "outputs": [
    {
     "data": {
      "text/plain": [
       "array([5., 5., 5., 5., 5., 5., 5., 5., 5., 5.])"
      ]
     },
     "execution_count": 43,
     "metadata": {},
     "output_type": "execute_result"
    }
   ],
   "source": [
    "np.ones(10) * 5"
   ]
  },
  {
   "cell_type": "markdown",
   "id": "b3723546-fe4f-46c3-96ec-b017956df1bd",
   "metadata": {},
   "source": [
    "### Métodos"
   ]
  },
  {
   "cell_type": "code",
   "execution_count": 45,
   "id": "700c57f1-fc34-4b3b-aba4-d266daa3f996",
   "metadata": {
    "tags": []
   },
   "outputs": [
    {
     "data": {
      "text/plain": [
       "array([102, 435, 348, 270, 106,  71, 188,  20, 102, 121, 466, 214, 330,\n",
       "       458,  87, 372,  99, 359, 151, 130, 149, 308, 257, 343, 491, 413,\n",
       "       293, 385, 191, 443, 276, 160, 459, 313,  21, 252, 235, 344,  48,\n",
       "       474,  58, 169, 475, 187, 463, 270, 189, 445, 174, 445])"
      ]
     },
     "execution_count": 45,
     "metadata": {},
     "output_type": "execute_result"
    }
   ],
   "source": [
    "np.random.seed(42)\n",
    "\n",
    "arr = np.random.randint(0, 500, 50)\n",
    "\n",
    "arr"
   ]
  },
  {
   "cell_type": "markdown",
   "id": "007b24b5-729f-4fd7-a140-890b9a82c4cd",
   "metadata": {},
   "source": [
    "**Maior valor do array**:"
   ]
  },
  {
   "cell_type": "code",
   "execution_count": 46,
   "id": "b393e708-6798-4472-ab2d-b1851823390d",
   "metadata": {
    "tags": []
   },
   "outputs": [
    {
     "data": {
      "text/plain": [
       "491"
      ]
     },
     "execution_count": 46,
     "metadata": {},
     "output_type": "execute_result"
    }
   ],
   "source": [
    "arr.max()"
   ]
  },
  {
   "cell_type": "markdown",
   "id": "3f97a7ac-f64d-466b-8961-894b710b020d",
   "metadata": {},
   "source": [
    "**Índice do elemento máximo**:"
   ]
  },
  {
   "cell_type": "code",
   "execution_count": 47,
   "id": "6763e44b-d168-4ffd-a646-b2628906e9d7",
   "metadata": {
    "tags": []
   },
   "outputs": [
    {
     "data": {
      "text/plain": [
       "24"
      ]
     },
     "execution_count": 47,
     "metadata": {},
     "output_type": "execute_result"
    }
   ],
   "source": [
    "arr.argmax()"
   ]
  },
  {
   "cell_type": "markdown",
   "id": "06f6c4b9-af10-44d0-9fb7-603b115f5d3b",
   "metadata": {},
   "source": [
    "**Menor valor do array**:"
   ]
  },
  {
   "cell_type": "code",
   "execution_count": 48,
   "id": "6a94fa20-f24a-4bc4-9823-d15cd9b2eb3c",
   "metadata": {
    "tags": []
   },
   "outputs": [
    {
     "data": {
      "text/plain": [
       "20"
      ]
     },
     "execution_count": 48,
     "metadata": {},
     "output_type": "execute_result"
    }
   ],
   "source": [
    "arr.min()"
   ]
  },
  {
   "cell_type": "markdown",
   "id": "014788c4-b664-4fce-8c96-55acf53ba7b8",
   "metadata": {},
   "source": [
    "**Índice do elemento mínimo**:"
   ]
  },
  {
   "cell_type": "code",
   "execution_count": 49,
   "id": "f372e128-b9c0-44fd-bd02-6db61f602ca4",
   "metadata": {
    "tags": []
   },
   "outputs": [
    {
     "data": {
      "text/plain": [
       "7"
      ]
     },
     "execution_count": 49,
     "metadata": {},
     "output_type": "execute_result"
    }
   ],
   "source": [
    "arr.argmin()"
   ]
  },
  {
   "cell_type": "markdown",
   "id": "0c186220-eea5-4dcc-8ce4-8591cabb0d18",
   "metadata": {},
   "source": [
    "**Soma de todos os elementos**:"
   ]
  },
  {
   "cell_type": "code",
   "execution_count": 50,
   "id": "506980cd-9e12-4124-a03b-3e9775021ff1",
   "metadata": {
    "tags": []
   },
   "outputs": [
    {
     "data": {
      "text/plain": [
       "13159"
      ]
     },
     "execution_count": 50,
     "metadata": {},
     "output_type": "execute_result"
    }
   ],
   "source": [
    "arr.sum()"
   ]
  },
  {
   "cell_type": "markdown",
   "id": "9e06ce6e-07b7-4257-9f00-4dfe67d8625f",
   "metadata": {},
   "source": [
    "**Média de todos os elementos**:"
   ]
  },
  {
   "cell_type": "code",
   "execution_count": 51,
   "id": "d8e75d0e-dffe-404f-a91e-0aeb151d3467",
   "metadata": {
    "tags": []
   },
   "outputs": [
    {
     "data": {
      "text/plain": [
       "263.18"
      ]
     },
     "execution_count": 51,
     "metadata": {},
     "output_type": "execute_result"
    }
   ],
   "source": [
    "arr.mean()"
   ]
  },
  {
   "cell_type": "markdown",
   "id": "3cfd3ea5-cdae-411f-aa16-542676dbaac6",
   "metadata": {},
   "source": [
    "**Desvio padrão**:"
   ]
  },
  {
   "cell_type": "code",
   "execution_count": 52,
   "id": "d25e1efe-3531-4c07-9f80-339025994137",
   "metadata": {
    "tags": []
   },
   "outputs": [
    {
     "data": {
      "text/plain": [
       "142.08654968011575"
      ]
     },
     "execution_count": 52,
     "metadata": {},
     "output_type": "execute_result"
    }
   ],
   "source": [
    "arr.std()"
   ]
  },
  {
   "cell_type": "markdown",
   "id": "9886d085-bcb1-4bbe-a46a-7a81a4e13bcb",
   "metadata": {},
   "source": [
    "**Trocando o tipo dos dados nas listas com o ```.astype()```**:"
   ]
  },
  {
   "cell_type": "code",
   "execution_count": 53,
   "id": "8f9b0f80-6bc1-4865-ab2f-433ee4988e0b",
   "metadata": {
    "tags": []
   },
   "outputs": [
    {
     "data": {
      "text/plain": [
       "dtype('int32')"
      ]
     },
     "execution_count": 53,
     "metadata": {},
     "output_type": "execute_result"
    }
   ],
   "source": [
    "arr.dtype"
   ]
  },
  {
   "cell_type": "code",
   "execution_count": 54,
   "id": "4fe3af22-a5b8-40a0-a5f3-5b49601c6e24",
   "metadata": {
    "tags": []
   },
   "outputs": [
    {
     "data": {
      "text/plain": [
       "array([102., 435., 348., 270., 106.,  71., 188.,  20., 102., 121., 466.,\n",
       "       214., 330., 458.,  87., 372.,  99., 359., 151., 130., 149., 308.,\n",
       "       257., 343., 491., 413., 293., 385., 191., 443., 276., 160., 459.,\n",
       "       313.,  21., 252., 235., 344.,  48., 474.,  58., 169., 475., 187.,\n",
       "       463., 270., 189., 445., 174., 445.])"
      ]
     },
     "execution_count": 54,
     "metadata": {},
     "output_type": "execute_result"
    }
   ],
   "source": [
    "arr.astype(float)"
   ]
  },
  {
   "cell_type": "markdown",
   "id": "0379afc1-0b04-4be2-bd4e-f12cc74c8c29",
   "metadata": {},
   "source": [
    "### Matrizes"
   ]
  },
  {
   "cell_type": "code",
   "execution_count": 55,
   "id": "1e886dcf-722f-4504-b105-4e3dee8f99d6",
   "metadata": {
    "tags": []
   },
   "outputs": [
    {
     "data": {
      "text/plain": [
       "5"
      ]
     },
     "execution_count": 55,
     "metadata": {},
     "output_type": "execute_result"
    }
   ],
   "source": [
    "matriz = [[1, 2, 3],\n",
    "          [4, 5, 6]]\n",
    "\n",
    "matriz[1][1]"
   ]
  },
  {
   "cell_type": "code",
   "execution_count": 58,
   "id": "79cce005-37f1-4bc6-a1fa-4f1e24a8a0b6",
   "metadata": {
    "tags": []
   },
   "outputs": [
    {
     "name": "stdout",
     "output_type": "stream",
     "text": [
      "[[1, 2, 3], [4, 5, 6]]\n"
     ]
    }
   ],
   "source": [
    "print(matriz)"
   ]
  },
  {
   "cell_type": "code",
   "execution_count": 57,
   "id": "5a81a776-b6a4-4e80-8124-e0b5f0be7295",
   "metadata": {
    "tags": []
   },
   "outputs": [
    {
     "name": "stdout",
     "output_type": "stream",
     "text": [
      "[[1 2 3]\n",
      " [4 5 6]]\n"
     ]
    }
   ],
   "source": [
    "matriz_arr = np.array(matriz)\n",
    "\n",
    "print(matriz_arr)"
   ]
  },
  {
   "cell_type": "markdown",
   "id": "948945d1-c4e4-4eda-a008-15ce0612ce2b",
   "metadata": {},
   "source": [
    "**Array unidimensional (com o arrange)**"
   ]
  },
  {
   "cell_type": "code",
   "execution_count": 59,
   "id": "649e0470-1fac-4996-b903-882a0340072c",
   "metadata": {
    "tags": []
   },
   "outputs": [
    {
     "data": {
      "text/plain": [
       "array([0, 1, 2, 3, 4, 5, 6, 7, 8, 9])"
      ]
     },
     "execution_count": 59,
     "metadata": {},
     "output_type": "execute_result"
    }
   ],
   "source": [
    "arr = np.arange(10)\n",
    "\n",
    "arr"
   ]
  },
  {
   "cell_type": "markdown",
   "id": "6377514b-d08e-42ee-a887-48398459cb7e",
   "metadata": {},
   "source": [
    "Atributo ```.shape``` mostra a dimensão do array.\n",
    "\n",
    "Notação: (número de linhas, número de colunas)"
   ]
  },
  {
   "cell_type": "code",
   "execution_count": 60,
   "id": "4c57a3d5-9f40-48ba-9fa5-73fae68cf88b",
   "metadata": {
    "tags": []
   },
   "outputs": [
    {
     "data": {
      "text/plain": [
       "(10,)"
      ]
     },
     "execution_count": 60,
     "metadata": {},
     "output_type": "execute_result"
    }
   ],
   "source": [
    "arr.shape"
   ]
  },
  {
   "cell_type": "markdown",
   "id": "588914b7-5338-4389-81fe-e8ad7ac147bf",
   "metadata": {},
   "source": [
    "Uma **matriz** é um **array bidimensional**."
   ]
  },
  {
   "cell_type": "markdown",
   "id": "4b33df3d-3509-42ec-a677-21fde667e155",
   "metadata": {},
   "source": [
    "Vamos começar criando matrizes a partir do ```reshape()``` de vetores: (é garantir que o número de elementos seja o mesmo)"
   ]
  },
  {
   "cell_type": "code",
   "execution_count": 65,
   "id": "6810dd70-da7e-423c-8169-52e20e3ea838",
   "metadata": {
    "tags": []
   },
   "outputs": [
    {
     "data": {
      "text/plain": [
       "array([[0, 1],\n",
       "       [2, 3],\n",
       "       [4, 5],\n",
       "       [6, 7],\n",
       "       [8, 9]])"
      ]
     },
     "execution_count": 65,
     "metadata": {},
     "output_type": "execute_result"
    }
   ],
   "source": [
    "matriz2 = arr.reshape((5, 2))\n",
    "\n",
    "matriz2"
   ]
  },
  {
   "cell_type": "code",
   "execution_count": 62,
   "id": "2393861c-43e6-4f34-a477-e2690190513f",
   "metadata": {
    "tags": []
   },
   "outputs": [
    {
     "data": {
      "text/plain": [
       "array([[0, 1, 2, 3, 4],\n",
       "       [5, 6, 7, 8, 9]])"
      ]
     },
     "execution_count": 62,
     "metadata": {},
     "output_type": "execute_result"
    }
   ],
   "source": [
    "arr.reshape((2, 5))"
   ]
  },
  {
   "cell_type": "markdown",
   "id": "033e7fb6-e36c-47d0-b795-f175ea28d2a3",
   "metadata": {},
   "source": [
    "Também é possível indexar matrizes. Há duas formas de **indexação**:"
   ]
  },
  {
   "cell_type": "markdown",
   "id": "6da4bf1b-cb87-4329-b6f1-8da504d8f4d0",
   "metadata": {},
   "source": [
    "- Elemento[3][1] - quarta linha e segunda coluna:"
   ]
  },
  {
   "cell_type": "code",
   "execution_count": 66,
   "id": "23e511f6-5948-4565-b4fd-ce34edd8213f",
   "metadata": {
    "tags": []
   },
   "outputs": [
    {
     "data": {
      "text/plain": [
       "7"
      ]
     },
     "execution_count": 66,
     "metadata": {},
     "output_type": "execute_result"
    }
   ],
   "source": [
    "matriz2[3][1]"
   ]
  },
  {
   "cell_type": "markdown",
   "id": "df69da93-87b0-4922-a42d-99d80d256891",
   "metadata": {},
   "source": [
    "- Elemento[3, 1] - quarta linha e segunda coluna:"
   ]
  },
  {
   "cell_type": "code",
   "execution_count": 67,
   "id": "4cf0163a-8d81-4aae-90fe-fd854cd183dd",
   "metadata": {
    "tags": []
   },
   "outputs": [
    {
     "data": {
      "text/plain": [
       "7"
      ]
     },
     "execution_count": 67,
     "metadata": {},
     "output_type": "execute_result"
    }
   ],
   "source": [
    "matriz2[3, 1]"
   ]
  },
  {
   "cell_type": "markdown",
   "id": "07ab4919-1069-460f-a8a8-42ae9f5734e5",
   "metadata": {},
   "source": [
    "**Fatiamento de matriz**"
   ]
  },
  {
   "cell_type": "code",
   "execution_count": 68,
   "id": "e729bc3c-aaeb-41ae-adba-79d1bab9c02c",
   "metadata": {
    "tags": []
   },
   "outputs": [
    {
     "data": {
      "text/plain": [
       "array([[0, 1],\n",
       "       [2, 3],\n",
       "       [4, 5],\n",
       "       [6, 7],\n",
       "       [8, 9]])"
      ]
     },
     "execution_count": 68,
     "metadata": {},
     "output_type": "execute_result"
    }
   ],
   "source": [
    "matriz2"
   ]
  },
  {
   "cell_type": "code",
   "execution_count": 69,
   "id": "b02af5cc-bc76-43c6-b0df-9b9bf8dfa458",
   "metadata": {
    "tags": []
   },
   "outputs": [
    {
     "data": {
      "text/plain": [
       "array([[0, 1],\n",
       "       [2, 3]])"
      ]
     },
     "execution_count": 69,
     "metadata": {},
     "output_type": "execute_result"
    }
   ],
   "source": [
    "matriz2[:2,:2]"
   ]
  },
  {
   "cell_type": "markdown",
   "id": "1dfb7b94-4b61-4191-86f4-069ca9b96fbb",
   "metadata": {},
   "source": [
    "**Matriz identidade** utilizando o método ```np.eye()```:"
   ]
  },
  {
   "cell_type": "code",
   "execution_count": 70,
   "id": "6f305b37-6daf-42a7-ac42-c748168dd19e",
   "metadata": {
    "tags": []
   },
   "outputs": [
    {
     "data": {
      "text/plain": [
       "array([[1., 0., 0., 0.],\n",
       "       [0., 1., 0., 0.],\n",
       "       [0., 0., 1., 0.],\n",
       "       [0., 0., 0., 1.]])"
      ]
     },
     "execution_count": 70,
     "metadata": {},
     "output_type": "execute_result"
    }
   ],
   "source": [
    "np.eye(4)"
   ]
  },
  {
   "cell_type": "markdown",
   "id": "6d5d33ff-e4fe-4c74-a6a3-79849b3c30c0",
   "metadata": {},
   "source": [
    "Também é possível inicializar matrizes diretamente, sempre que for possível especificar o argumento ```shape``` ou ```size``` em uma função."
   ]
  },
  {
   "cell_type": "code",
   "execution_count": 71,
   "id": "092d8b6f-011e-461f-9594-4ab205b788fb",
   "metadata": {
    "tags": []
   },
   "outputs": [
    {
     "data": {
      "text/plain": [
       "array([[0, 1],\n",
       "       [2, 3],\n",
       "       [4, 5],\n",
       "       [6, 7],\n",
       "       [8, 9]])"
      ]
     },
     "execution_count": 71,
     "metadata": {},
     "output_type": "execute_result"
    }
   ],
   "source": [
    "np.arange(10).reshape((5,2))"
   ]
  },
  {
   "cell_type": "code",
   "execution_count": 72,
   "id": "88390d25-34fc-4ad0-b334-db8d7175e2f6",
   "metadata": {
    "tags": []
   },
   "outputs": [
    {
     "data": {
      "text/plain": [
       "array([[150, 154, 163],\n",
       "       [102, 150, 106],\n",
       "       [120, 172, 138]])"
      ]
     },
     "execution_count": 72,
     "metadata": {},
     "output_type": "execute_result"
    }
   ],
   "source": [
    "np.random.randint(100, 200, (3, 3))"
   ]
  },
  {
   "cell_type": "code",
   "execution_count": 73,
   "id": "724d875d-8c01-4e65-994b-7bd5480b0963",
   "metadata": {
    "tags": []
   },
   "outputs": [
    {
     "data": {
      "text/plain": [
       "array([[1., 1., 1.],\n",
       "       [1., 1., 1.],\n",
       "       [1., 1., 1.]])"
      ]
     },
     "execution_count": 73,
     "metadata": {},
     "output_type": "execute_result"
    }
   ],
   "source": [
    "np.ones((3, 3))"
   ]
  },
  {
   "cell_type": "markdown",
   "id": "5a2f12aa-0eec-419e-82d1-f205e8392642",
   "metadata": {},
   "source": [
    "**Filtros (máscaras)**"
   ]
  },
  {
   "cell_type": "code",
   "execution_count": 74,
   "id": "7eb0ee74-2362-434b-9fe8-e4debbd3f046",
   "metadata": {
    "tags": []
   },
   "outputs": [],
   "source": [
    "arr = np.random.randint(0, 100, 20)"
   ]
  },
  {
   "cell_type": "code",
   "execution_count": 75,
   "id": "d4cc5e25-ba4a-4b53-bdda-362f51c3f81d",
   "metadata": {
    "tags": []
   },
   "outputs": [
    {
     "data": {
      "text/plain": [
       "array([17,  3, 88, 59, 13,  8, 89, 52,  1, 83, 91, 59, 70, 43,  7, 46, 34,\n",
       "       77, 80, 35])"
      ]
     },
     "execution_count": 75,
     "metadata": {},
     "output_type": "execute_result"
    }
   ],
   "source": [
    "arr"
   ]
  },
  {
   "cell_type": "code",
   "execution_count": 76,
   "id": "a4247507-6537-45b4-bad2-1d47c36b7c4b",
   "metadata": {
    "tags": []
   },
   "outputs": [
    {
     "data": {
      "text/plain": [
       "array([False, False,  True,  True, False, False,  True,  True, False,\n",
       "        True,  True,  True,  True, False, False, False, False,  True,\n",
       "        True, False])"
      ]
     },
     "execution_count": 76,
     "metadata": {},
     "output_type": "execute_result"
    }
   ],
   "source": [
    "arr > 50"
   ]
  },
  {
   "cell_type": "code",
   "execution_count": 77,
   "id": "9b71fef4-16da-4e62-b253-8e97805a0285",
   "metadata": {
    "tags": []
   },
   "outputs": [
    {
     "data": {
      "text/plain": [
       "array([88, 59, 89, 52, 83, 91, 59, 70, 77, 80])"
      ]
     },
     "execution_count": 77,
     "metadata": {},
     "output_type": "execute_result"
    }
   ],
   "source": [
    "arr[arr > 50]"
   ]
  },
  {
   "cell_type": "code",
   "execution_count": 78,
   "id": "8d2a2086-2a7f-4e42-94c7-8a17d6d00644",
   "metadata": {
    "tags": []
   },
   "outputs": [
    {
     "data": {
      "text/plain": [
       "array([17,  3, 13,  8,  1, 43,  7, 46, 34, 35])"
      ]
     },
     "execution_count": 78,
     "metadata": {},
     "output_type": "execute_result"
    }
   ],
   "source": [
    "arr[arr < 50]"
   ]
  },
  {
   "cell_type": "markdown",
   "id": "bce30d95-2897-42eb-8a8a-2737fbff4c9c",
   "metadata": {},
   "source": [
    "- Números pares:"
   ]
  },
  {
   "cell_type": "code",
   "execution_count": 79,
   "id": "253276de-5e01-43c4-b970-0d5c6c4b2693",
   "metadata": {
    "tags": []
   },
   "outputs": [
    {
     "data": {
      "text/plain": [
       "array([False, False,  True, False, False,  True, False,  True, False,\n",
       "       False, False, False,  True, False, False,  True,  True, False,\n",
       "        True, False])"
      ]
     },
     "execution_count": 79,
     "metadata": {},
     "output_type": "execute_result"
    }
   ],
   "source": [
    "arr % 2 == 0"
   ]
  },
  {
   "cell_type": "code",
   "execution_count": 80,
   "id": "af7ed777-65f9-40df-ace1-74799c01d788",
   "metadata": {
    "tags": []
   },
   "outputs": [
    {
     "data": {
      "text/plain": [
       "array([88,  8, 52, 70, 46, 34, 80])"
      ]
     },
     "execution_count": 80,
     "metadata": {},
     "output_type": "execute_result"
    }
   ],
   "source": [
    "arr[arr % 2 == 0]"
   ]
  },
  {
   "cell_type": "markdown",
   "id": "21f6f76f-2789-4f5f-b01e-27ed496defcc",
   "metadata": {},
   "source": [
    "- Números pares maiores que 50:"
   ]
  },
  {
   "cell_type": "code",
   "execution_count": 81,
   "id": "c40e0b45-7b0b-43c5-9d06-73d222ed00e5",
   "metadata": {
    "tags": []
   },
   "outputs": [
    {
     "data": {
      "text/plain": [
       "array([88, 52, 70, 80])"
      ]
     },
     "execution_count": 81,
     "metadata": {},
     "output_type": "execute_result"
    }
   ],
   "source": [
    "arr[(arr % 2 == 0) & (arr > 50)]"
   ]
  },
  {
   "cell_type": "code",
   "execution_count": null,
   "id": "8fe94e12-c729-456d-895a-94247a6b4ef0",
   "metadata": {},
   "outputs": [],
   "source": []
  }
 ],
 "metadata": {
  "kernelspec": {
   "display_name": "Python 3 (ipykernel)",
   "language": "python",
   "name": "python3"
  },
  "language_info": {
   "codemirror_mode": {
    "name": "ipython",
    "version": 3
   },
   "file_extension": ".py",
   "mimetype": "text/x-python",
   "name": "python",
   "nbconvert_exporter": "python",
   "pygments_lexer": "ipython3",
   "version": "3.11.5"
  }
 },
 "nbformat": 4,
 "nbformat_minor": 5
}
